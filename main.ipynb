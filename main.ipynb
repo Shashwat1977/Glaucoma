{
  "cells": [
    {
      "cell_type": "markdown",
      "metadata": {
        "id": "view-in-github",
        "colab_type": "text"
      },
      "source": [
        "<a href=\"https://colab.research.google.com/github/SohaHussain/Glaucoma-Detection/blob/main/main.ipynb\" target=\"_parent\"><img src=\"https://colab.research.google.com/assets/colab-badge.svg\" alt=\"Open In Colab\"/></a>"
      ]
    },
    {
      "cell_type": "markdown",
      "metadata": {
        "id": "wj2BgwiAIHGT"
      },
      "source": [
        "## Import Dependencies"
      ]
    },
    {
      "cell_type": "code",
      "execution_count": null,
      "metadata": {
        "id": "3bDB3Q25mVSi"
      },
      "outputs": [],
      "source": [
        "# for linear algebra\n",
        "import numpy as np\n",
        "\n",
        "# for data processing and CSV files I/O\n",
        "import pandas as pd\n",
        "\n",
        "# for file handling\n",
        "import os\n",
        "\n",
        "import pickle\n",
        "import keras"
      ]
    },
    {
      "cell_type": "code",
      "execution_count": null,
      "metadata": {
        "id": "J52VwiavlhmM"
      },
      "outputs": [],
      "source": [
        "from keras.preprocessing.image import ImageDataGenerator\n",
        "from keras.models import Sequential\n",
        "from keras.layers import Conv2D, MaxPooling2D, GlobalAveragePooling1D\n",
        "from keras.layers import Activation, Dropout, Flatten, Dense\n",
        "from keras import backend as k\n",
        "from google.colab import files\n",
        "from keras.preprocessing import image\n",
        "from keras.applications.imagenet_utils import preprocess_input, decode_predictions\n",
        "from keras.models import load_model "
      ]
    },
    {
      "cell_type": "code",
      "source": [
        "print(np.__version__)\n",
        "print(pd.__version__)\n",
        "\n",
        "\n",
        "print(keras.__version__)\n"
      ],
      "metadata": {
        "colab": {
          "base_uri": "https://localhost:8080/"
        },
        "id": "byCVnvYmLePb",
        "outputId": "6e967b74-2fdc-467f-9712-e12a2a17a6e3"
      },
      "execution_count": null,
      "outputs": [
        {
          "output_type": "stream",
          "name": "stdout",
          "text": [
            "1.21.6\n",
            "1.3.5\n",
            "2.8.0\n"
          ]
        }
      ]
    },
    {
      "cell_type": "markdown",
      "metadata": {
        "id": "us8hh6MoIZDf"
      },
      "source": [
        "##Organizing Data"
      ]
    },
    {
      "cell_type": "code",
      "execution_count": null,
      "metadata": {
        "id": "LM5bBhNvhPw-"
      },
      "outputs": [],
      "source": [
        "# train directory\n",
        "train_dir = '/content/drive/MyDrive/health app datasets/Train_Val_Data/scans_sorted/Train/'\n",
        "\n",
        "# validation directory\n",
        "val_dir = '/content/drive/MyDrive/health app datasets/Train_Val_Data/scans_sorted/Validation/'"
      ]
    },
    {
      "cell_type": "code",
      "execution_count": null,
      "metadata": {
        "colab": {
          "base_uri": "https://localhost:8080/"
        },
        "id": "Wc0l33EtmSBX",
        "outputId": "d2f539fe-e3b5-46bc-e2fa-d42958654b15"
      },
      "outputs": [
        {
          "output_type": "stream",
          "name": "stdout",
          "text": [
            "386\n"
          ]
        }
      ],
      "source": [
        "# number of negative images in train directory\n",
        "list = os.listdir('/content/drive/MyDrive/health app datasets/Train_Val_Data/scans_sorted/Train/Glaucoma_Negative')\n",
        "number_files = len(list)\n",
        "print(number_files)"
      ]
    },
    {
      "cell_type": "code",
      "execution_count": null,
      "metadata": {
        "colab": {
          "base_uri": "https://localhost:8080/"
        },
        "id": "zdARMX4-pPOE",
        "outputId": "0da0d9ba-4a2d-4ec4-cb74-e39a204bfcaa"
      },
      "outputs": [
        {
          "output_type": "stream",
          "name": "stdout",
          "text": [
            "134\n"
          ]
        }
      ],
      "source": [
        "# number of positive images in train directory\n",
        "list = os.listdir('/content/drive/MyDrive/health app datasets/Train_Val_Data/scans_sorted/Train/Glaucoma_Positive')\n",
        "number_files = len(list)\n",
        "print(number_files)"
      ]
    },
    {
      "cell_type": "code",
      "execution_count": null,
      "metadata": {
        "colab": {
          "base_uri": "https://localhost:8080/"
        },
        "id": "bKHB5qX0puQi",
        "outputId": "6a024f44-f623-4ecd-b217-0047087a1ad1"
      },
      "outputs": [
        {
          "output_type": "stream",
          "name": "stdout",
          "text": [
            "34\n"
          ]
        }
      ],
      "source": [
        "# number of positive images in validation directory\n",
        "list = os.listdir('/content/drive/MyDrive/health app datasets/Train_Val_Data/scans_sorted/Validation/Glaucoma_Positive')\n",
        "number_files = len(list)\n",
        "print(number_files)"
      ]
    },
    {
      "cell_type": "code",
      "execution_count": null,
      "metadata": {
        "colab": {
          "base_uri": "https://localhost:8080/"
        },
        "id": "ruAJwQzCp2NG",
        "outputId": "a05798f0-2b85-462d-c09f-a0065e7dd1b4"
      },
      "outputs": [
        {
          "output_type": "stream",
          "name": "stdout",
          "text": [
            "96\n"
          ]
        }
      ],
      "source": [
        "# number of negative images in validation directory\n",
        "list = os.listdir('/content/drive/MyDrive/health app datasets/Train_Val_Data/scans_sorted/Validation/Glaucoma_Negative')\n",
        "number_files = len(list)\n",
        "print(number_files)"
      ]
    },
    {
      "cell_type": "markdown",
      "metadata": {
        "id": "w94XzsXqJdpA"
      },
      "source": [
        "## Model variables"
      ]
    },
    {
      "cell_type": "code",
      "execution_count": null,
      "metadata": {
        "id": "H5AxhRy5j7E7"
      },
      "outputs": [],
      "source": [
        "img_width = 150\n",
        "img_height = 150\n",
        "nb_train_samples = 520\n",
        "nb_validation_samples = 130\n",
        "epochs = 10\n",
        "batch_size = 16"
      ]
    },
    {
      "cell_type": "code",
      "execution_count": null,
      "metadata": {
        "id": "xYH-bLE9q5QO"
      },
      "outputs": [],
      "source": [
        "if k.image_data_format() == 'channels_first':\n",
        "    input_shape = (3, img_width, img_height)\n",
        "else:\n",
        "    input_shape = (img_width, img_height, 3)\n"
      ]
    },
    {
      "cell_type": "markdown",
      "metadata": {
        "id": "vYz_wz5DJisK"
      },
      "source": [
        "##Building a Neural Network"
      ]
    },
    {
      "cell_type": "code",
      "execution_count": null,
      "metadata": {
        "id": "TWK9SQ8PrtMy"
      },
      "outputs": [],
      "source": [
        "model = Sequential()\n",
        "model.add(Conv2D(32, (3, 3), input_shape=input_shape))\n",
        "model.add(Activation('relu'))\n",
        "model.add(MaxPooling2D(pool_size=(2, 2)))\n",
        "\n",
        "model.add(Conv2D(32, (3, 3)))\n",
        "model.add(Activation('relu'))\n",
        "model.add(MaxPooling2D(pool_size=(2, 2)))\n",
        "\n",
        "model.add(Conv2D(64, (3, 3)))\n",
        "model.add(Activation('relu'))\n",
        "model.add(MaxPooling2D(pool_size=(2, 2)))\n",
        "\n",
        "model.add(Flatten())\n",
        "model.add(Dense(64))\n",
        "model.add(Activation('relu'))\n",
        "model.add(Dropout(0.5))\n",
        "model.add(Dense(1))\n",
        "model.add(Activation('sigmoid'))"
      ]
    },
    {
      "cell_type": "code",
      "execution_count": null,
      "metadata": {
        "id": "onglt3UNr7Ue"
      },
      "outputs": [],
      "source": [
        "model.compile(loss='binary_crossentropy',\n",
        "              optimizer='rmsprop',\n",
        "              metrics=['accuracy'])"
      ]
    },
    {
      "cell_type": "markdown",
      "metadata": {
        "id": "JZYODjg0KVOw"
      },
      "source": [
        "##Data Augmentation"
      ]
    },
    {
      "cell_type": "code",
      "execution_count": null,
      "metadata": {
        "id": "QOTc2fvdsD5V"
      },
      "outputs": [],
      "source": [
        "# this is the augmentation configuration for training\n",
        "train_datagen = ImageDataGenerator(\n",
        "    rescale=1. / 255,\n",
        "    shear_range=0.2,\n",
        "    zoom_range=0.2,\n",
        "    horizontal_flip=True)\n",
        "\n",
        "# this is the augmentation configuration for validation:\n",
        "# only rescaling\n",
        "val_datagen = ImageDataGenerator(rescale=1. / 255)"
      ]
    },
    {
      "cell_type": "code",
      "execution_count": null,
      "metadata": {
        "colab": {
          "base_uri": "https://localhost:8080/"
        },
        "id": "1sgpR28IsLWi",
        "outputId": "1811da57-0b72-418f-d141-99bc604fbc34"
      },
      "outputs": [
        {
          "output_type": "stream",
          "name": "stdout",
          "text": [
            "Found 520 images belonging to 2 classes.\n",
            "Found 130 images belonging to 2 classes.\n"
          ]
        }
      ],
      "source": [
        "train_generator = train_datagen.flow_from_directory(\n",
        "    train_dir,\n",
        "    target_size=(img_width, img_height),\n",
        "    batch_size=batch_size,\n",
        "    class_mode='binary')\n",
        "\n",
        "validation_generator = val_datagen.flow_from_directory(\n",
        "    val_dir,\n",
        "    target_size=(img_width, img_height),\n",
        "    batch_size=batch_size,\n",
        "    class_mode='binary')"
      ]
    },
    {
      "cell_type": "markdown",
      "metadata": {
        "id": "3B977mJLKdUs"
      },
      "source": [
        "##Training the model"
      ]
    },
    {
      "cell_type": "code",
      "execution_count": null,
      "metadata": {
        "colab": {
          "base_uri": "https://localhost:8080/"
        },
        "id": "jL_IbJwmsUaI",
        "outputId": "2485e928-e30f-4927-d4a3-16848941ab88"
      },
      "outputs": [
        {
          "output_type": "stream",
          "name": "stdout",
          "text": [
            "Epoch 1/10\n",
            "32/32 [==============================] - 247s 7s/step - loss: 0.6711 - accuracy: 0.7163 - val_loss: 0.5905 - val_accuracy: 0.7422\n",
            "Epoch 2/10\n",
            "32/32 [==============================] - 46s 1s/step - loss: 0.5862 - accuracy: 0.7421 - val_loss: 0.5840 - val_accuracy: 0.7344\n",
            "Epoch 3/10\n",
            "32/32 [==============================] - 46s 1s/step - loss: 0.5991 - accuracy: 0.7381 - val_loss: 0.5767 - val_accuracy: 0.7344\n",
            "Epoch 4/10\n",
            "32/32 [==============================] - 48s 2s/step - loss: 0.6042 - accuracy: 0.7361 - val_loss: 0.5770 - val_accuracy: 0.7344\n",
            "Epoch 5/10\n",
            "32/32 [==============================] - 46s 1s/step - loss: 0.5990 - accuracy: 0.7440 - val_loss: 0.5970 - val_accuracy: 0.7422\n",
            "Epoch 6/10\n",
            "32/32 [==============================] - 46s 1s/step - loss: 0.5934 - accuracy: 0.7401 - val_loss: 0.5990 - val_accuracy: 0.7344\n",
            "Epoch 7/10\n",
            "32/32 [==============================] - 46s 1s/step - loss: 0.5879 - accuracy: 0.7401 - val_loss: 0.5991 - val_accuracy: 0.7344\n",
            "Epoch 8/10\n",
            "32/32 [==============================] - 46s 1s/step - loss: 0.5775 - accuracy: 0.7440 - val_loss: 0.5970 - val_accuracy: 0.7344\n",
            "Epoch 9/10\n",
            "32/32 [==============================] - 45s 1s/step - loss: 0.5760 - accuracy: 0.7421 - val_loss: 0.6149 - val_accuracy: 0.7344\n",
            "Epoch 10/10\n",
            "32/32 [==============================] - 46s 1s/step - loss: 0.5788 - accuracy: 0.7401 - val_loss: 0.6036 - val_accuracy: 0.7344\n"
          ]
        },
        {
          "output_type": "execute_result",
          "data": {
            "text/plain": [
              "<keras.callbacks.History at 0x7f06ae080750>"
            ]
          },
          "metadata": {},
          "execution_count": 14
        }
      ],
      "source": [
        "model.fit(\n",
        "    train_generator,\n",
        "    steps_per_epoch=nb_train_samples // batch_size,\n",
        "    epochs=epochs,\n",
        "    validation_data=validation_generator,\n",
        "    validation_steps=nb_validation_samples // batch_size)\n"
      ]
    },
    {
      "cell_type": "markdown",
      "metadata": {
        "id": "eARgd3ODKjUD"
      },
      "source": [
        "##Testing the model"
      ]
    },
    {
      "cell_type": "code",
      "execution_count": null,
      "metadata": {
        "id": "nr3NSPH4iY1x"
      },
      "outputs": [],
      "source": [
        "upload = files.upload()\n",
        "for fn in upload.keys():\n",
        "  path = '/content/' + fn\n",
        "  img = image.load_img(path, target_size=(150, 150))\n",
        "  x = image.img_to_array(img)\n",
        "  x = np.expand_dims(x, axis=0)\n",
        "\n",
        "  images = np.vstack([x])\n",
        "  classes = model.predict(images, batch_size=batch_size)\n",
        "  print(classes[0])\n",
        "  if classes[0]>0.5:\n",
        "    print(fn + \" has glaucoma\")\n",
        "  else:\n",
        "    print(fn + \" does not have glaucoma\")"
      ]
    },
    {
      "cell_type": "markdown",
      "metadata": {
        "id": "TNcJG_d3LruJ"
      },
      "source": [
        "##Saving the model"
      ]
    },
    {
      "cell_type": "code",
      "execution_count": null,
      "metadata": {
        "id": "VH9kM_2zsbex"
      },
      "outputs": [],
      "source": [
        "model.save('/content/drive/My Drive/folder(1)/my_model.h5')\n",
        "\n"
      ]
    },
    {
      "cell_type": "code",
      "source": [
        "model_json = model.to_json()\n",
        "with open(\"/content/drive/MyDrive/folder(1)/ImageClassifier.json\", \"w\") as json_file:\n",
        "    json_file.write(model_json)\n",
        "# serialize weights to HDF5\n",
        "model.save_weights(\"/content/drive/MyDrive/folder(1)/ImageClassifier.h5\")"
      ],
      "metadata": {
        "id": "s9l39cnyPbaU"
      },
      "execution_count": null,
      "outputs": []
    },
    {
      "cell_type": "code",
      "source": [
        ""
      ],
      "metadata": {
        "id": "3gJPIm2o5ADI"
      },
      "execution_count": null,
      "outputs": []
    }
  ],
  "metadata": {
    "accelerator": "GPU",
    "colab": {
      "collapsed_sections": [],
      "name": "main.ipynb",
      "provenance": [],
      "mount_file_id": "1dzztRZ_EsVdqEyTUdM01CWJNcZttIzep",
      "authorship_tag": "ABX9TyPQulWuW/uVo0fiHXtoIJCe",
      "include_colab_link": true
    },
    "gpuClass": "standard",
    "kernelspec": {
      "display_name": "Python 3",
      "name": "python3"
    },
    "language_info": {
      "name": "python"
    }
  },
  "nbformat": 4,
  "nbformat_minor": 0
}